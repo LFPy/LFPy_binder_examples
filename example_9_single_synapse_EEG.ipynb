{
 "cells": [
  {
   "cell_type": "code",
   "execution_count": null,
   "metadata": {},
   "outputs": [],
   "source": [
    "%pylab inline"
   ]
  },
  {
   "cell_type": "markdown",
   "metadata": {},
   "source": [
    "\n",
    "\n",
    "# Example: Post-synaptic EEG-response of a single synapse #\n",
    "This is an example of **``LFPy``** running in an **``IPython notebook``**. To run through this example code and produce output, press **``<shift-Enter>``** in each code block below.\n",
    "\n",
    "First step is to **import ``LFPy``** and other packages for analysis and plotting:"
   ]
  },
  {
   "cell_type": "code",
   "execution_count": null,
   "metadata": {},
   "outputs": [],
   "source": [
    "import numpy as np\n",
    "import LFPy"
   ]
  },
  {
   "cell_type": "markdown",
   "metadata": {},
   "source": [
    "Then, create the cell object using the **LFPy.Cell**\n",
    "-class, specifying the morphology file.\n"
   ]
  },
  {
   "cell_type": "code",
   "execution_count": null,
   "metadata": {},
   "outputs": [],
   "source": [
    "cell_params = {'morphology': 'morphologies/L5_Mainen96_LFPy.hoc',\n",
    "               'cm' : 1.0,                 # membrane capacitance\n",
    "               'Ra' : 150,                 # axial resistance\n",
    "               'tstart': 0.,\n",
    "               'passive' : True,           # switch on passive mechs\n",
    "               'nsegs_method' : 'lambda_f',# method for setting number of segments,\n",
    "               'lambda_f' : 100,           # segments are isopotential at this frequency\n",
    "               'passive_parameters' : {'g_pas' : 1./30000, 'e_pas' : -70}, # passive params\n",
    "               'tstop': 40\n",
    "               }\n",
    "cell = LFPy.Cell(**cell_params)"
   ]
  },
  {
   "cell_type": "markdown",
   "metadata": {},
   "source": [
    "One can now use **LFPy.Synapse**-class to insert a single \n",
    "synapse onto the cell model, and set the spike time(s) using **LFPy.Synapse.set_spike_times()**:"
   ]
  },
  {
   "cell_type": "code",
   "execution_count": null,
   "metadata": {},
   "outputs": [],
   "source": [
    "synapse_params = {'idx': cell.get_closest_idx(x=0, y=0, z=1000),  # Find index for synaptic (soma at origo for now)\n",
    "                  'e': 0.,  # reversal potential\n",
    "                  'syntype': 'ExpSyn',  # exponential synapse\n",
    "                  'tau': 5.,  # synapse time constant\n",
    "                  'weight': 0.001,  # 0.001, # synapse weight\n",
    "                  'record_current': True  # record synapse current\n",
    "                 }\n",
    "synapse = LFPy.Synapse(cell, **synapse_params)\n",
    "synapse.set_spike_times(np.array([5.]))"
   ]
  },
  {
   "cell_type": "code",
   "execution_count": null,
   "metadata": {},
   "outputs": [],
   "source": [
    "current_dipole_moment = LFPy.CurrentDipoleMoment(cell=cell)"
   ]
  },
  {
   "cell_type": "markdown",
   "metadata": {},
   "source": [
    "\n",
    "We now have what we need to calculate the current dipole moment,\n",
    "using a built in method **LFPy.Cell.simulate()** method to run the simulation."
   ]
  },
  {
   "cell_type": "code",
   "execution_count": null,
   "metadata": {},
   "outputs": [],
   "source": [
    "cell.simulate(probes=[current_dipole_moment])"
   ]
  },
  {
   "cell_type": "markdown",
   "metadata": {},
   "source": [
    "First we define some plotting functions"
   ]
  },
  {
   "cell_type": "code",
   "execution_count": null,
   "metadata": {},
   "outputs": [],
   "source": [
    "def plot_cell_to_ax(cell, ax, synidxs):\n",
    "    \"\"\" Function to plot cell morphology to axis \"\"\"\n",
    "    for idx in range(cell.totnsegs):\n",
    "        if idx == 0:\n",
    "            ax.plot(cell.x.mean(axis=-1)[idx], cell.z.mean(axis=-1)[idx], 'ko')\n",
    "        else:\n",
    "            ax.plot(cell.x[idx], cell.z[idx], c='k')\n",
    "\n",
    "    for synidx in synidxs:\n",
    "        l, = ax.plot(cell.x.mean(axis=-1)[synidx], cell.z.mean(axis=-1)[synidx], '*',\n",
    "                c=\"r\", ms=10)\n",
    "    ax.legend([l], [\"Synapse\"], frameon=False, bbox_to_anchor=[1, -0.1])\n",
    "\n",
    "def plot_EEG_sphere(fig, eeg, x_eeg, y_eeg, z_eeg):\n",
    "    \"\"\" Function to plot the 3D four-sphere head model with EEG \"\"\"\n",
    "    from mpl_toolkits.mplot3d import Axes3D\n",
    "    ax = fig.add_subplot(322, projection='3d',\n",
    "                         title=\"Max EEG potential\\nat 4-sphere surface\")\n",
    "    vmax = 6\n",
    "    vmin = -vmax\n",
    "    clr = lambda phi: plt.cm.PRGn((phi - vmin) / (vmax - vmin))\n",
    "    clrs = clr(eeg)\n",
    "    surf = ax.plot_surface(x_eeg.reshape(num_theta, num_phi),\n",
    "                           y_eeg.reshape(num_theta, num_phi),\n",
    "                           z_eeg.reshape(num_theta, num_phi),\n",
    "                           rstride=1, cstride=1, facecolors=clrs,\n",
    "                           linewidth=0, antialiased=False)\n",
    "\n",
    "    #ax.set_aspect('equal')\n",
    "    ax.axis('off')\n",
    "    ax.set_xlim3d(-65000, 65000)\n",
    "    ax.set_ylim3d(-65000, 65000)\n",
    "    ax.set_zlim3d(-65000, 65000)\n",
    "    ax.view_init(10, 0)\n",
    "\n",
    "    # colorbar\n",
    "    cax = fig.add_axes([0.65, 0.75, 0.25, 0.01])\n",
    "    m = plt.cm.ScalarMappable(cmap=plt.cm.PRGn)\n",
    "    ticks = np.linspace(vmin, vmax, 5) # global normalization\n",
    "    m.set_array(ticks)\n",
    "    cbar = plt.colorbar(m, cax=cax,\n",
    "                        extend='both', orientation='horizontal')\n",
    "    cbar.outline.set_visible(False)\n",
    "    cbar.set_ticks(ticks)\n",
    "    cbar.set_label(r'$\\phi$ (pV)', labelpad=1.)\n"
   ]
  },
  {
   "cell_type": "markdown",
   "metadata": {},
   "source": [
    "We then define the EEG coordinates, and calculate the EEG signals"
   ]
  },
  {
   "cell_type": "code",
   "execution_count": null,
   "metadata": {},
   "outputs": [],
   "source": [
    "P = current_dipole_moment.data\n",
    "\n",
    "# four_sphere properties\n",
    "radii = [79000., 80000., 85000., 90000.]  # Radius of the different spheres in um (brain, CSF, skull, scalp)\n",
    "sigmas = [0.3, 1.5, 0.015, 0.3]  # Conductivity within the different regions (S/m)\n",
    "rad_tol = 1e-2\n",
    "somapos = np.array([0., 0., 77500])\n",
    "\n",
    "# Find mid point between synaptic input and soma to position single-cell current dipole\n",
    "r_soma_syns = [cell.get_intersegment_vector(idx0=0, idx1=i) for i in cell.synidx]\n",
    "r_mid = np.average(r_soma_syns, axis=0)\n",
    "r_mid = somapos + r_mid/2.\n",
    "\n",
    "# Find time trace of EEG signal at the top of the head\n",
    "eeg_coords_top = np.array([[0., 0., radii[3] - rad_tol]])\n",
    "four_sphere_top = LFPy.FourSphereVolumeConductor(radii=radii, sigmas=sigmas, r_electrodes=eeg_coords_top)\n",
    "pot_db_4s_top = four_sphere_top.get_dipole_potential(P, r_mid)\n",
    "eeg_top = np.array(pot_db_4s_top) * 1e9  # Convert to pV\n",
    "\n",
    "# measurement points at head surface for single time-step\n",
    "# for nice plot use theta_step = 1 and phi_step = 1. NB: Long computation time.\n",
    "theta_step = 10\n",
    "phi_step = 10\n",
    "theta, phi_angle = np.mgrid[0.:180.:theta_step, 0.:360.+phi_step:phi_step]\n",
    "\n",
    "num_theta = theta.shape[0]\n",
    "num_phi = theta.shape[1]\n",
    "theta = theta.flatten()\n",
    "phi_angle = phi_angle.flatten()\n",
    "\n",
    "theta_r = np.deg2rad(theta)\n",
    "phi_angle_r = np.deg2rad(phi_angle)\n",
    "\n",
    "x_eeg = (radii[3] - rad_tol) * np.sin(theta_r) * np.cos(phi_angle_r)\n",
    "y_eeg = (radii[3] - rad_tol) * np.sin(theta_r) * np.sin(phi_angle_r)\n",
    "z_eeg = (radii[3] - rad_tol) * np.cos(theta_r)\n",
    "eeg_coords = np.vstack((x_eeg, y_eeg, z_eeg)).T\n",
    "\n",
    "# potential in 4S with db\n",
    "time_max = np.argmax(np.linalg.norm(P, axis=0))\n",
    "p = P[:, time_max].reshape((3, 1))\n",
    "\n",
    "four_sphere = LFPy.FourSphereVolumeConductor(radii=radii, sigmas=sigmas, r_electrodes=eeg_coords)\n",
    "\n",
    "pot_db_4s = four_sphere.get_dipole_potential(p, r_mid)\n",
    "eeg = pot_db_4s.reshape(num_theta, num_phi)*1e9# from mV to pV\n",
    "\n",
    "P_mag = np.sqrt(P[:, 0]**2 + P[:, 1]**2 + P[:, 2]**2)\n",
    "\n",
    "plt.close('all')\n",
    "fig = plt.figure(figsize=[9, 12])\n",
    "fig.subplots_adjust(left=0.15, hspace=0.5, right=0.98, top=0.95)\n",
    "\n",
    "morph_ax = fig.add_subplot(321, aspect=1, frameon=False,\n",
    "                           title=\"Cell and synapse\",\n",
    "                           xticks=[], yticks=[])\n",
    "plot_cell_to_ax(cell, morph_ax, cell.synidx)\n",
    "\n",
    "plot_EEG_sphere(fig, eeg, x_eeg, y_eeg, z_eeg)\n",
    "\n",
    "ax_p = fig.add_subplot(312, title=\"Current dipole moment\", ylabel=\"nA$\\cdot\\mu$m\")\n",
    "ax_p.plot(cell.tvec, P[0, ], label=\"P$_x$\")\n",
    "ax_p.plot(cell.tvec, P[1, ], label=\"P$_y$\")\n",
    "ax_p.plot(cell.tvec, P[2, ], label=\"P$_z$\")\n",
    "ax_p.axvline(cell.tvec[time_max], c='gray', ls='--')\n",
    "ax_p.legend(frameon=False, ncol=4, bbox_to_anchor=[1, -0.1])\n",
    "\n",
    "ax_eeg = fig.add_subplot(313, title=\"EEG at top\", xlabel=\"Time (ms)\",\n",
    "                         ylabel='pV')\n",
    "ax_eeg.plot(cell.tvec, eeg_top[0, :], 'k')\n",
    "\n",
    "ax_eeg.axvline(cell.tvec[time_max], c='gray', ls='--')\n",
    "\n",
    "# plt.savefig('example_EEG.pdf')"
   ]
  },
  {
   "cell_type": "code",
   "execution_count": null,
   "metadata": {},
   "outputs": [],
   "source": []
  }
 ],
 "metadata": {
  "kernelspec": {
   "display_name": "Python 3 (ipykernel)",
   "language": "python",
   "name": "python3"
  },
  "language_info": {
   "codemirror_mode": {
    "name": "ipython",
    "version": 3
   },
   "file_extension": ".py",
   "mimetype": "text/x-python",
   "name": "python",
   "nbconvert_exporter": "python",
   "pygments_lexer": "ipython3",
   "version": "3.9.6"
  }
 },
 "nbformat": 4,
 "nbformat_minor": 1
}
